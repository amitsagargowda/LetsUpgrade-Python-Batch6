{
  "nbformat": 4,
  "nbformat_minor": 0,
  "metadata": {
    "colab": {
      "name": "Day7_Assignment.ipynb",
      "provenance": [],
      "collapsed_sections": []
    },
    "kernelspec": {
      "name": "python3",
      "display_name": "Python 3"
    }
  },
  "cells": [
    {
      "cell_type": "markdown",
      "metadata": {
        "id": "im3gNmrYDru7",
        "colab_type": "text"
      },
      "source": [
        "# **Day 7 Assignment**"
      ]
    },
    {
      "cell_type": "markdown",
      "metadata": {
        "id": "P-xw0cJ_Dwqo",
        "colab_type": "text"
      },
      "source": [
        "   **Question1**\n",
        "\n",
        "        Write python code to toggle keys and value pair?\n",
        "\n",
        "        Input:\n",
        "\n",
        "                port1 = {21: \"FTP\", 22:\"SSH\", 23: \"telnet\", 80: \"http\"}\n",
        "\n",
        "        Output:\n",
        "\n",
        "                Port2 = {“FTP\":21, \"SSH\":22, “telnet\":23,\"http\": 80}"
      ]
    },
    {
      "cell_type": "code",
      "metadata": {
        "id": "4gsG5O0xD3SH",
        "colab_type": "code",
        "colab": {
          "base_uri": "https://localhost:8080/",
          "height": 34
        },
        "outputId": "4fb3e41a-56c7-419d-8fea-a099fcb33ef8"
      },
      "source": [
        "port1={21: \"FTP\", 22:\"SSH\", 23: \"telnet\", 80: \"http\"}\n",
        "port2={ }\n",
        "for i in port1:\n",
        "    port2[port1[i]]=i\n",
        "print(port2)"
      ],
      "execution_count": 5,
      "outputs": [
        {
          "output_type": "stream",
          "text": [
            "{'FTP': 21, 'SSH': 22, 'telnet': 23, 'http': 80}\n"
          ],
          "name": "stdout"
        }
      ]
    },
    {
      "cell_type": "markdown",
      "metadata": {
        "id": "26r0xPqhDysh",
        "colab_type": "text"
      },
      "source": [
        "   **Question2**\n",
        "\n",
        "        Write a program to create list from tuple set by adding them?\n",
        "\n",
        "        Input:\n",
        "\n",
        "                [(1,2), (3,4), (5,6),(4,5)]\n",
        "\n",
        "        Output:\n",
        "\n",
        "                [3, 7, 11,9]\n"
      ]
    },
    {
      "cell_type": "code",
      "metadata": {
        "id": "GBWrVNBL--kX",
        "colab_type": "code",
        "colab": {
          "base_uri": "https://localhost:8080/",
          "height": 34
        },
        "outputId": "b52a9b4f-81b0-4988-d13c-0845fae0abf9"
      },
      "source": [
        "list1=[(1,2), (3,4), (5,6),(4,5)]\n",
        "list2=[]\n",
        "\n",
        "for i in list1:\n",
        "    list2.append(i[0]+i[1])\n",
        "\n",
        "print(list2)"
      ],
      "execution_count": 7,
      "outputs": [
        {
          "output_type": "stream",
          "text": [
            "[3, 7, 11, 9]\n"
          ],
          "name": "stdout"
        }
      ]
    },
    {
      "cell_type": "code",
      "metadata": {
        "id": "ps2dODWEGZwR",
        "colab_type": "code",
        "colab": {}
      },
      "source": [
        ""
      ],
      "execution_count": null,
      "outputs": []
    }
  ]
}