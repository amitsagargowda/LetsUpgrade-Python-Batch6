{
  "nbformat": 4,
  "nbformat_minor": 0,
  "metadata": {
    "colab": {
      "name": "Day6_Assignment.ipynb",
      "provenance": []
    },
    "kernelspec": {
      "name": "python3",
      "display_name": "Python 3"
    }
  },
  "cells": [
    {
      "cell_type": "markdown",
      "metadata": {
        "id": "eSSs7pqpiM1e",
        "colab_type": "text"
      },
      "source": [
        "# **Assignment Day6**"
      ]
    },
    {
      "cell_type": "markdown",
      "metadata": {
        "id": "BMchokldiUHJ",
        "colab_type": "text"
      },
      "source": [
        "**Question1**\n",
        "\n",
        "        Convert given lists to dictionary in one line code without using zip methond?\n",
        "\n",
        "        Input:\n",
        "\n",
        "                List1 = [1,2,3,4,5,7,8]\n",
        "                List2 = [“a”, “b”, “c”, “d”, “e”,\"f\"]\n",
        "\n",
        "        Output:\n",
        "\n",
        "                Dict={\"a\":1,\"b\":2,\"c\":3,\"d\":4,\"e\":7,\"f\":8}\n"
      ]
    },
    {
      "cell_type": "code",
      "metadata": {
        "id": "iA6gwHr9hpSd",
        "colab_type": "code",
        "colab": {
          "base_uri": "https://localhost:8080/",
          "height": 34
        },
        "outputId": "bd16931c-b567-45ac-df7a-a2750e392ec9"
      },
      "source": [
        "List1 = [1,2,3,4,5,7,8]\n",
        "List2 = [\"a\", \"b\", \"c\", \"d\", \"e\",\"f\"]\n",
        "\n",
        "Dict1={List2[i]:List1[i] for i in range(len(List2))}\n",
        "print(Dict1)"
      ],
      "execution_count": 2,
      "outputs": [
        {
          "output_type": "stream",
          "text": [
            "{'a': 1, 'b': 2, 'c': 3, 'd': 4, 'e': 5, 'f': 7}\n"
          ],
          "name": "stdout"
        }
      ]
    },
    {
      "cell_type": "code",
      "metadata": {
        "id": "evn6FUOdjEAm",
        "colab_type": "code",
        "colab": {}
      },
      "source": [
        ""
      ],
      "execution_count": null,
      "outputs": []
    }
  ]
}