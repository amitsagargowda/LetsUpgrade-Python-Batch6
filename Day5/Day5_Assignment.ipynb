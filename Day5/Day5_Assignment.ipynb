{
  "nbformat": 4,
  "nbformat_minor": 0,
  "metadata": {
    "colab": {
      "name": "Day5_Assignment.ipynb",
      "provenance": [],
      "collapsed_sections": []
    },
    "kernelspec": {
      "name": "python3",
      "display_name": "Python 3"
    }
  },
  "cells": [
    {
      "cell_type": "markdown",
      "metadata": {
        "id": "L5f5Mj34hxTD",
        "colab_type": "text"
      },
      "source": [
        "## **Day5 Assignment**"
      ]
    },
    {
      "cell_type": "markdown",
      "metadata": {
        "id": "qsSWsxFoh4BN",
        "colab_type": "text"
      },
      "source": [
        "**Question1**\n",
        "\n",
        "Sort the data in increasing order but all zeros present should be move to right hand side?\n",
        "\n",
        "      input:\n",
        "      \n",
        "          [0,1,2,10,4,1,0,56,2,0,1,3,0,56,0,4]\n",
        "          \n",
        "      output:\n",
        "      \n",
        "          [1,1,1,2,2,3,4,4,10,56,56,0,0,0,0,0]"
      ]
    },
    {
      "cell_type": "code",
      "metadata": {
        "id": "kLPCUIsUhptD",
        "colab_type": "code",
        "colab": {
          "base_uri": "https://localhost:8080/",
          "height": 50
        },
        "outputId": "3cc76c6c-b9f9-4728-93be-66f63495baa1"
      },
      "source": [
        "#input number\n",
        "inputlststr=input(\"Enter the numbers seperated by comma : \").split(\",\")\n",
        "#convert to int\n",
        "inputlstint=[]\n",
        "for i in inputlststr:\n",
        "    inputlstint.append(int(i))\n",
        "\n",
        "#maximum number in lis\n",
        "maximum=max(inputlstint)\n",
        "\n",
        "#key function\n",
        "def keyfunc(num):\n",
        "    if num==0:\n",
        "        return(maximum+1)\n",
        "    else:\n",
        "        return(num)\n",
        "\n",
        "#sort list\n",
        "inputlstint.sort(key=keyfunc)\n",
        "\n",
        "\n",
        "#print sorted list\n",
        "print(inputlstint)\n"
      ],
      "execution_count": 1,
      "outputs": [
        {
          "output_type": "stream",
          "text": [
            "Enter the numbers seperated by comma : 0,1,2,10,4,1,0,56,2,0,1,3,0,56,0,4\n",
            "[1, 1, 1, 2, 2, 3, 4, 4, 10, 56, 56, 0, 0, 0, 0, 0]\n"
          ],
          "name": "stdout"
        }
      ]
    },
    {
      "cell_type": "markdown",
      "metadata": {
        "id": "ZSWy-lxRpBqo",
        "colab_type": "text"
      },
      "source": [
        "   **Question2**\n",
        "   \n",
        "          Write program to merge two sorted lists to produce one sorted list, but use \n",
        "          only one loop either while or for?\n",
        "          \n",
        "          Input:\n",
        "          \n",
        "              list1=[10,20,40,60,70,80] sorted list\n",
        "         \n",
        "              list2=[5,15,25,35,45,60] sorted list\n",
        "          \n",
        "          Output:\n",
        "  \n",
        "              list3[5,10,15,20,25,35,40,60,60,70,80]\n"
      ]
    },
    {
      "cell_type": "code",
      "metadata": {
        "id": "c6r-HBoDipk9",
        "colab_type": "code",
        "colab": {
          "base_uri": "https://localhost:8080/",
          "height": 67
        },
        "outputId": "096cf306-8ea5-41b1-e980-6c35fa8a38b6"
      },
      "source": [
        "#Take first list\n",
        "firstlststr=input(\"Enter First number seperated by comma : \").split(\",\")\n",
        "\n",
        "firstlstnum=[]\n",
        "\n",
        "for i in firstlststr:\n",
        "    firstlstnum.append(int(i))\n",
        "\n",
        "#Take Second Sorted list\n",
        "secondlststr=input(\"Enter Second number seperated by comma : \").split(\",\")\n",
        "\n",
        "secondlstnum=[]\n",
        "\n",
        "for i in secondlststr:\n",
        "    secondlstnum.append(int(i))\n",
        "\n",
        "#sort both sorted list to one\n",
        "thirdlst=[]\n",
        "indexfirst=0\n",
        "indexsecond=0\n",
        "while indexfirst<len(firstlstnum) and indexsecond<len(secondlstnum):\n",
        "    if firstlstnum[indexfirst] < secondlstnum[indexsecond]:\n",
        "        thirdlst.append(firstlstnum[indexfirst])\n",
        "        indexfirst+=1\n",
        "    elif firstlstnum[indexfirst] > secondlstnum[indexsecond]:\n",
        "        thirdlst.append(secondlstnum[indexsecond])\n",
        "        indexsecond+=1\n",
        "    else:\n",
        "        thirdlst.append(firstlstnum[indexfirst])\n",
        "        thirdlst.append(secondlstnum[indexsecond])\n",
        "        indexfirst+=1\n",
        "        indexsecond+=1\n",
        "\n",
        "if indexfirst != len(firstlstnum):\n",
        "    thirdlst+=firstlstnum[indexfirst:]\n",
        "else:\n",
        "    thirdlst+=secondlstnum[indexsecond:]\n",
        "\n",
        "print(thirdlst)"
      ],
      "execution_count": 2,
      "outputs": [
        {
          "output_type": "stream",
          "text": [
            "Enter First number seperated by comma : 10,20,40,60,70,80\n",
            "Enter Second number seperated by comma : 5,15,25,35,45,60\n",
            "[5, 10, 15, 20, 25, 35, 40, 45, 60, 60, 70, 80]\n"
          ],
          "name": "stdout"
        }
      ]
    },
    {
      "cell_type": "code",
      "metadata": {
        "id": "EkliD52Ut3gF",
        "colab_type": "code",
        "colab": {}
      },
      "source": [
        ""
      ],
      "execution_count": null,
      "outputs": []
    }
  ]
}