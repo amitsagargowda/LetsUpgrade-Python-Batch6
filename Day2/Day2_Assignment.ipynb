{
  "nbformat": 4,
  "nbformat_minor": 0,
  "metadata": {
    "colab": {
      "name": "day2_assignment.ipynb",
      "provenance": [],
      "collapsed_sections": []
    },
    "kernelspec": {
      "name": "python3",
      "display_name": "Python 3"
    }
  },
  "cells": [
    {
      "cell_type": "markdown",
      "metadata": {
        "id": "-hDC4qqgRyQG",
        "colab_type": "text"
      },
      "source": [
        "# **Day2 Assignment**\n",
        "Whatever you have seen or learned in today’s session you need to write it down in Jupyter notebook. "
      ]
    },
    {
      "cell_type": "markdown",
      "metadata": {
        "id": "qCbXS7AASUM5",
        "colab_type": "text"
      },
      "source": [
        "## **Print Statement**\n",
        "Used to print statement in python"
      ]
    },
    {
      "cell_type": "code",
      "metadata": {
        "id": "4EeSluVISma7",
        "colab_type": "code",
        "colab": {
          "base_uri": "https://localhost:8080/",
          "height": 34
        },
        "outputId": "e4ba9f01-3f83-4419-9f9e-507602597c0f"
      },
      "source": [
        "print(\"Anandkumar\")"
      ],
      "execution_count": 1,
      "outputs": [
        {
          "output_type": "stream",
          "text": [
            "Anandkumar\n"
          ],
          "name": "stdout"
        }
      ]
    },
    {
      "cell_type": "markdown",
      "metadata": {
        "id": "gdR8Z_j1yr0y",
        "colab_type": "text"
      },
      "source": [
        "## **BACKSLASH**\n",
        "when ever you want to print \" or ' in a string then we use backslash "
      ]
    },
    {
      "cell_type": "code",
      "metadata": {
        "id": "8LDzzj_Hyxw5",
        "colab_type": "code",
        "colab": {
          "base_uri": "https://localhost:8080/",
          "height": 34
        },
        "outputId": "e73376b7-fd60-4bd8-961f-32956d537fd4"
      },
      "source": [
        "print(\"Anand\\\"kumar\")"
      ],
      "execution_count": 2,
      "outputs": [
        {
          "output_type": "stream",
          "text": [
            "Anand\"kumar\n"
          ],
          "name": "stdout"
        }
      ]
    },
    {
      "cell_type": "code",
      "metadata": {
        "id": "fh-uN6l0zqAU",
        "colab_type": "code",
        "colab": {
          "base_uri": "https://localhost:8080/",
          "height": 34
        },
        "outputId": "81173f8f-3574-4cd0-8fe4-c6e9c69560eb"
      },
      "source": [
        "print('Anand\\'kumar')"
      ],
      "execution_count": 3,
      "outputs": [
        {
          "output_type": "stream",
          "text": [
            "Anand'kumar\n"
          ],
          "name": "stdout"
        }
      ]
    },
    {
      "cell_type": "markdown",
      "metadata": {
        "id": "1lZvs1eVz4Yw",
        "colab_type": "text"
      },
      "source": [
        "\\  is used for escape sequences\n",
        "\\n for next line\n",
        "\\t for tab"
      ]
    },
    {
      "cell_type": "code",
      "metadata": {
        "id": "B0lcxbtVz2SJ",
        "colab_type": "code",
        "colab": {
          "base_uri": "https://localhost:8080/",
          "height": 50
        },
        "outputId": "48f8058f-7748-4170-dcb2-6b3f731c270d"
      },
      "source": [
        "print(\"Anand\\nkumar\")"
      ],
      "execution_count": 5,
      "outputs": [
        {
          "output_type": "stream",
          "text": [
            "Anand\n",
            "kumar\n"
          ],
          "name": "stdout"
        }
      ]
    },
    {
      "cell_type": "code",
      "metadata": {
        "id": "5MjcMwBS0CBR",
        "colab_type": "code",
        "colab": {
          "base_uri": "https://localhost:8080/",
          "height": 34
        },
        "outputId": "e2e5d5b4-4e99-4aea-de56-dc3119671de1"
      },
      "source": [
        "print(\"Anand\\tkumar\")"
      ],
      "execution_count": 6,
      "outputs": [
        {
          "output_type": "stream",
          "text": [
            "Anand\tkumar\n"
          ],
          "name": "stdout"
        }
      ]
    },
    {
      "cell_type": "markdown",
      "metadata": {
        "id": "8R6H5m6c0pW3",
        "colab_type": "text"
      },
      "source": [
        "## **triple Quotes**\n",
        "this is used to print multilines in print()"
      ]
    },
    {
      "cell_type": "code",
      "metadata": {
        "id": "9ULcEgLG05Wl",
        "colab_type": "code",
        "colab": {
          "base_uri": "https://localhost:8080/",
          "height": 84
        },
        "outputId": "0b973915-0a3b-4159-afa3-c6bebd0e0c24"
      },
      "source": [
        "print(\"\"\"\n",
        "    Anand\n",
        "    kumar\n",
        "    \"\"\")"
      ],
      "execution_count": 7,
      "outputs": [
        {
          "output_type": "stream",
          "text": [
            "\n",
            "    Anand\n",
            "    kumar\n",
            "    \n"
          ],
          "name": "stdout"
        }
      ]
    },
    {
      "cell_type": "code",
      "metadata": {
        "id": "42INsuVJ1AuT",
        "colab_type": "code",
        "colab": {
          "base_uri": "https://localhost:8080/",
          "height": 84
        },
        "outputId": "e073fb07-7d11-4187-ebc9-6f1ef3699e86"
      },
      "source": [
        "print('''\n",
        "    Anand\n",
        "    kumar\n",
        "    ''')"
      ],
      "execution_count": 8,
      "outputs": [
        {
          "output_type": "stream",
          "text": [
            "\n",
            "    Anand\n",
            "    kumar\n",
            "    \n"
          ],
          "name": "stdout"
        }
      ]
    },
    {
      "cell_type": "markdown",
      "metadata": {
        "id": "0HeL8UzK1a4A",
        "colab_type": "text"
      },
      "source": [
        "## **FORMATTED OUTPUT**"
      ]
    },
    {
      "cell_type": "code",
      "metadata": {
        "id": "WprJUK3i1e2U",
        "colab_type": "code",
        "colab": {
          "base_uri": "https://localhost:8080/",
          "height": 34
        },
        "outputId": "f5e8f9d3-6af2-4c60-c090-744c16f4ce08"
      },
      "source": [
        "name=\"Anand\"\n",
        "marks=98\n",
        "age=20\n",
        "print(\"The name is \",name,\"The marks are \",marks,\"The age is \",age)"
      ],
      "execution_count": 9,
      "outputs": [
        {
          "output_type": "stream",
          "text": [
            "The name is  Anand The marks are  98 The age is  20\n"
          ],
          "name": "stdout"
        }
      ]
    },
    {
      "cell_type": "code",
      "metadata": {
        "id": "AWyeaYIP2A_T",
        "colab_type": "code",
        "colab": {
          "base_uri": "https://localhost:8080/",
          "height": 67
        },
        "outputId": "55b455d9-7d87-4d5b-8e42-fb0fbd998814"
      },
      "source": [
        "print(\"The name is %s \\n The marks are %d \\n The age is %d\"%(name,marks,age))"
      ],
      "execution_count": 10,
      "outputs": [
        {
          "output_type": "stream",
          "text": [
            "The name is Anand \n",
            " The marks are 98 \n",
            " The age is 20\n"
          ],
          "name": "stdout"
        }
      ]
    },
    {
      "cell_type": "markdown",
      "metadata": {
        "id": "zYpTCpmU2bmw",
        "colab_type": "text"
      },
      "source": [
        "## **VARIABLE ASSIGNMENT**"
      ]
    },
    {
      "cell_type": "code",
      "metadata": {
        "id": "yaEDRgm62g21",
        "colab_type": "code",
        "colab": {
          "base_uri": "https://localhost:8080/",
          "height": 34
        },
        "outputId": "c49fdfdc-6815-4e47-c5df-4acb902295f7"
      },
      "source": [
        "x=1\n",
        "y=2\n",
        "z=x+y\n",
        "print(z)"
      ],
      "execution_count": 11,
      "outputs": [
        {
          "output_type": "stream",
          "text": [
            "3\n"
          ],
          "name": "stdout"
        }
      ]
    },
    {
      "cell_type": "code",
      "metadata": {
        "id": "RsUJ7ME72uNn",
        "colab_type": "code",
        "colab": {
          "base_uri": "https://localhost:8080/",
          "height": 67
        },
        "outputId": "b26d955d-7319-4f89-d25d-bcc8fa55ca9a"
      },
      "source": [
        "x=1\n",
        "y=1\n",
        "print(id(x))\n",
        "print(id(y))\n",
        "print(id(1))"
      ],
      "execution_count": 12,
      "outputs": [
        {
          "output_type": "stream",
          "text": [
            "10914496\n",
            "10914496\n",
            "10914496\n"
          ],
          "name": "stdout"
        }
      ]
    },
    {
      "cell_type": "markdown",
      "metadata": {
        "id": "H3qxCA1Z3JXM",
        "colab_type": "text"
      },
      "source": [
        "## **OPERATORS**\n",
        "Arithematic operators"
      ]
    },
    {
      "cell_type": "code",
      "metadata": {
        "id": "5zvf4GEV3Uid",
        "colab_type": "code",
        "colab": {
          "base_uri": "https://localhost:8080/",
          "height": 34
        },
        "outputId": "52d1e9ae-2f4a-4373-f15f-10d575d6049e"
      },
      "source": [
        "a=7\n",
        "b=5\n",
        "print(a+b)"
      ],
      "execution_count": 13,
      "outputs": [
        {
          "output_type": "stream",
          "text": [
            "12\n"
          ],
          "name": "stdout"
        }
      ]
    },
    {
      "cell_type": "code",
      "metadata": {
        "id": "joiNLmWi3mBe",
        "colab_type": "code",
        "colab": {
          "base_uri": "https://localhost:8080/",
          "height": 118
        },
        "outputId": "96e11839-68dc-48ac-ab08-5791e9aa587d"
      },
      "source": [
        "print(a-b)\n",
        "print(a*b)\n",
        "print(a/b)\n",
        "print(a//b)\n",
        "print(a%b)\n",
        "print(a**b)"
      ],
      "execution_count": 14,
      "outputs": [
        {
          "output_type": "stream",
          "text": [
            "2\n",
            "35\n",
            "1.4\n",
            "1\n",
            "2\n",
            "16807\n"
          ],
          "name": "stdout"
        }
      ]
    },
    {
      "cell_type": "markdown",
      "metadata": {
        "id": "y1UkOBaM367o",
        "colab_type": "text"
      },
      "source": [
        "Relational operators"
      ]
    },
    {
      "cell_type": "code",
      "metadata": {
        "id": "rbiMQkmH3_J4",
        "colab_type": "code",
        "colab": {}
      },
      "source": [
        "a=13\n",
        "b=33"
      ],
      "execution_count": 15,
      "outputs": []
    },
    {
      "cell_type": "code",
      "metadata": {
        "id": "qrSJjg1C4Pbz",
        "colab_type": "code",
        "colab": {
          "base_uri": "https://localhost:8080/",
          "height": 118
        },
        "outputId": "9a01e4ff-4bb5-491c-85e4-72a610b88047"
      },
      "source": [
        "print(a>b)\n",
        "print(a<b)\n",
        "print(a>=b)\n",
        "print(a<=b)\n",
        "print(a==b)\n",
        "print(a!=b)"
      ],
      "execution_count": 16,
      "outputs": [
        {
          "output_type": "stream",
          "text": [
            "False\n",
            "True\n",
            "False\n",
            "True\n",
            "False\n",
            "True\n"
          ],
          "name": "stdout"
        }
      ]
    },
    {
      "cell_type": "markdown",
      "metadata": {
        "id": "0HPDJ-ou4pH_",
        "colab_type": "text"
      },
      "source": [
        "Logical operators"
      ]
    },
    {
      "cell_type": "code",
      "metadata": {
        "id": "UiRCvu7w4veo",
        "colab_type": "code",
        "colab": {}
      },
      "source": [
        "a=1\n",
        "b=0"
      ],
      "execution_count": 17,
      "outputs": []
    },
    {
      "cell_type": "code",
      "metadata": {
        "id": "xIl2sPHx41Bt",
        "colab_type": "code",
        "colab": {
          "base_uri": "https://localhost:8080/",
          "height": 67
        },
        "outputId": "bbcc0519-126e-4899-8f59-76c4de51f112"
      },
      "source": [
        "print(a and b)\n",
        "print(a or b)\n",
        "print(not a)"
      ],
      "execution_count": 18,
      "outputs": [
        {
          "output_type": "stream",
          "text": [
            "0\n",
            "1\n",
            "False\n"
          ],
          "name": "stdout"
        }
      ]
    },
    {
      "cell_type": "markdown",
      "metadata": {
        "id": "yCxNprpc5VFa",
        "colab_type": "text"
      },
      "source": [
        "Bit wise operators"
      ]
    },
    {
      "cell_type": "code",
      "metadata": {
        "id": "pqSlxoti5Y2q",
        "colab_type": "code",
        "colab": {}
      },
      "source": [
        "a=10\n",
        "b=4"
      ],
      "execution_count": 19,
      "outputs": []
    },
    {
      "cell_type": "code",
      "metadata": {
        "id": "K0-zw8s75bRV",
        "colab_type": "code",
        "colab": {
          "base_uri": "https://localhost:8080/",
          "height": 84
        },
        "outputId": "b90df992-08d2-45f3-e6aa-d4e51bed4e64"
      },
      "source": [
        "print(a&b)\n",
        "print(a|b)\n",
        "print(~a)\n",
        "print(a^b)"
      ],
      "execution_count": 20,
      "outputs": [
        {
          "output_type": "stream",
          "text": [
            "0\n",
            "14\n",
            "-11\n",
            "14\n"
          ],
          "name": "stdout"
        }
      ]
    },
    {
      "cell_type": "markdown",
      "metadata": {
        "id": "fv-SMo625rFw",
        "colab_type": "text"
      },
      "source": [
        "Assignment operators"
      ]
    },
    {
      "cell_type": "code",
      "metadata": {
        "id": "rtOCbK415uRQ",
        "colab_type": "code",
        "colab": {
          "base_uri": "https://localhost:8080/",
          "height": 34
        },
        "outputId": "c0267d43-7937-4949-d77b-a06cfbc0533a"
      },
      "source": [
        "a=12\n",
        "\n",
        "print(a)"
      ],
      "execution_count": 21,
      "outputs": [
        {
          "output_type": "stream",
          "text": [
            "12\n"
          ],
          "name": "stdout"
        }
      ]
    },
    {
      "cell_type": "markdown",
      "metadata": {
        "id": "Efqai9-h5z9I",
        "colab_type": "text"
      },
      "source": [
        "Identity operators"
      ]
    },
    {
      "cell_type": "code",
      "metadata": {
        "id": "eI7Y9DmC54zO",
        "colab_type": "code",
        "colab": {
          "base_uri": "https://localhost:8080/",
          "height": 50
        },
        "outputId": "5fa3f414-bf09-4bfc-f440-607b87dbf551"
      },
      "source": [
        "a1=3\n",
        "b1=4\n",
        "print(a1 is b1)\n",
        "print(a1 is not b1)"
      ],
      "execution_count": 22,
      "outputs": [
        {
          "output_type": "stream",
          "text": [
            "False\n",
            "True\n"
          ],
          "name": "stdout"
        }
      ]
    },
    {
      "cell_type": "markdown",
      "metadata": {
        "id": "Ruh2in8j6JS5",
        "colab_type": "text"
      },
      "source": [
        "Membership operators"
      ]
    },
    {
      "cell_type": "code",
      "metadata": {
        "id": "PujrdLtv6N-b",
        "colab_type": "code",
        "colab": {
          "base_uri": "https://localhost:8080/",
          "height": 50
        },
        "outputId": "6a100d14-a087-401a-9fc4-c8d087b3601c"
      },
      "source": [
        "x=[1,2,3,4]\n",
        "y={1,3,4,6,'e'}\n",
        "print(1 in x)\n",
        "print('e' not in y)"
      ],
      "execution_count": 23,
      "outputs": [
        {
          "output_type": "stream",
          "text": [
            "True\n",
            "False\n"
          ],
          "name": "stdout"
        }
      ]
    },
    {
      "cell_type": "code",
      "metadata": {
        "id": "GVMUBtkeT7gl",
        "colab_type": "code",
        "colab": {}
      },
      "source": [
        ""
      ],
      "execution_count": null,
      "outputs": []
    }
  ]
}