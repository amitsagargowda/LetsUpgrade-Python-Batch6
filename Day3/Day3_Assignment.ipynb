{
  "nbformat": 4,
  "nbformat_minor": 0,
  "metadata": {
    "kernelspec": {
      "display_name": "Python 3",
      "language": "python",
      "name": "python3"
    },
    "language_info": {
      "codemirror_mode": {
        "name": "ipython",
        "version": 3
      },
      "file_extension": ".py",
      "mimetype": "text/x-python",
      "name": "python",
      "nbconvert_exporter": "python",
      "pygments_lexer": "ipython3",
      "version": "3.7.3"
    },
    "colab": {
      "name": "Day3_Assignment.ipynb",
      "provenance": [],
      "collapsed_sections": []
    }
  },
  "cells": [
    {
      "cell_type": "markdown",
      "metadata": {
        "id": "kOQphkNrwNVm",
        "colab_type": "text"
      },
      "source": [
        "# **Assignment**"
      ]
    },
    {
      "cell_type": "markdown",
      "metadata": {
        "id": "wLTi-1l61zuk",
        "colab_type": "text"
      },
      "source": [
        "# **Question 1 :**\n",
        "Find sum of n numbers with help of while loop."
      ]
    },
    {
      "cell_type": "code",
      "metadata": {
        "id": "buBE_h4kxggf",
        "colab_type": "code",
        "colab": {
          "base_uri": "https://localhost:8080/",
          "height": 50
        },
        "outputId": "3feacac0-2dbd-4554-abf1-4053b99aa5cc"
      },
      "source": [
        "num=eval(input(\"Enter number n: \"))\n",
        "sum=0\n",
        "while num>=1:\n",
        "    sum+=num\n",
        "    num-=1\n",
        "print(f\"Sum of n Numbers is : {sum}\")"
      ],
      "execution_count": 33,
      "outputs": [
        {
          "output_type": "stream",
          "text": [
            "Enter number n: 5\n",
            "Sum of n Numbers is : 15\n"
          ],
          "name": "stdout"
        }
      ]
    },
    {
      "cell_type": "markdown",
      "metadata": {
        "id": "Plg2PNIG3YGy",
        "colab_type": "text"
      },
      "source": [
        "# **Question 2 :**\n",
        "Take an integer and find whether the number is prime or not."
      ]
    },
    {
      "cell_type": "code",
      "metadata": {
        "id": "CiQXUB_-2Ydf",
        "colab_type": "code",
        "colab": {
          "base_uri": "https://localhost:8080/",
          "height": 50
        },
        "outputId": "d9488ced-9030-4274-c04e-d9945b42b68d"
      },
      "source": [
        "num=eval(input(\"Enter number to check if it is prime or not: \"))\n",
        "\n",
        "for i in range(2,num//2+1):\n",
        "    if num%i == 0:\n",
        "        print(f\"Number {num} is not prime\")\n",
        "        break\n",
        "else:\n",
        "    print(f\"Number {num} is prime\")    "
      ],
      "execution_count": 37,
      "outputs": [
        {
          "output_type": "stream",
          "text": [
            "Enter number to check if it is prime or not: 5\n",
            "Number 5 is prime\n"
          ],
          "name": "stdout"
        }
      ]
    }
  ]
}