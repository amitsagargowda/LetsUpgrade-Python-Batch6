{
  "nbformat": 4,
  "nbformat_minor": 0,
  "metadata": {
    "colab": {
      "name": "Day4_Assignment.ipynb",
      "provenance": [],
      "collapsed_sections": []
    },
    "kernelspec": {
      "name": "python3",
      "display_name": "Python 3"
    }
  },
  "cells": [
    {
      "cell_type": "markdown",
      "metadata": {
        "id": "axR2QSJjMFC7",
        "colab_type": "text"
      },
      "source": [
        "# **Assignment Day4**"
      ]
    },
    {
      "cell_type": "markdown",
      "metadata": {
        "id": "U_cQ1_AAL_BV",
        "colab_type": "text"
      },
      "source": [
        "# **Question 1 :**\n",
        "Find all occurrence of substring in the given string\n",
        " “what we think we become; we are Python programmer”\n",
        "Print the index values.\n"
      ]
    },
    {
      "cell_type": "code",
      "metadata": {
        "id": "Cna3SXdRMK_S",
        "colab_type": "code",
        "colab": {
          "base_uri": "https://localhost:8080/",
          "height": 34
        },
        "outputId": "8a0cc899-a062-45ac-f10c-39c29c1ea989"
      },
      "source": [
        "teststr=\"what we think we become; we are Python programmer\"\n",
        "\n",
        "start=0\n",
        "substring=\"we\"\n",
        "result=[]\n",
        "while 1:\n",
        "    index=teststr.find(substring,start)\n",
        "    if -1 == teststr.find(substring,start):\n",
        "        break\n",
        "    result.append(index)\n",
        "    start=index+len(substring)\n",
        "\n",
        "print(result)"
      ],
      "execution_count": 1,
      "outputs": [
        {
          "output_type": "stream",
          "text": [
            "[5, 14, 25]\n"
          ],
          "name": "stdout"
        }
      ]
    },
    {
      "cell_type": "markdown",
      "metadata": {
        "id": "aXqPuhIoMX-i",
        "colab_type": "text"
      },
      "source": [
        "# **Question 2 :**\n",
        "Explain using\n",
        "\n",
        "islower()\n",
        "\n",
        "isupper()\n",
        "\n",
        "with different kinds of strings."
      ]
    },
    {
      "cell_type": "code",
      "metadata": {
        "id": "lhS3xj82OLC6",
        "colab_type": "code",
        "colab": {
          "base_uri": "https://localhost:8080/",
          "height": 34
        },
        "outputId": "6159e87f-a368-4544-a3dd-c753b70f2b44"
      },
      "source": [
        "str1 = \"helLo world!\"\n",
        "str1.islower()"
      ],
      "execution_count": 2,
      "outputs": [
        {
          "output_type": "execute_result",
          "data": {
            "text/plain": [
              "False"
            ]
          },
          "metadata": {
            "tags": []
          },
          "execution_count": 2
        }
      ]
    },
    {
      "cell_type": "code",
      "metadata": {
        "id": "p2S1BI9VOnb1",
        "colab_type": "code",
        "colab": {
          "base_uri": "https://localhost:8080/",
          "height": 34
        },
        "outputId": "8e05744c-c406-432d-9133-76419fe39b0e"
      },
      "source": [
        "str2 = \"@hello world\"\n",
        "str2.islower()"
      ],
      "execution_count": 3,
      "outputs": [
        {
          "output_type": "execute_result",
          "data": {
            "text/plain": [
              "True"
            ]
          },
          "metadata": {
            "tags": []
          },
          "execution_count": 3
        }
      ]
    },
    {
      "cell_type": "code",
      "metadata": {
        "id": "BP8UkU0ROsig",
        "colab_type": "code",
        "colab": {
          "base_uri": "https://localhost:8080/",
          "height": 34
        },
        "outputId": "ff7c5cb8-b10e-4d79-b880-6ef53dee7e58"
      },
      "source": [
        "str3 = \"hello132 world!\"\n",
        "str3.islower()"
      ],
      "execution_count": 4,
      "outputs": [
        {
          "output_type": "execute_result",
          "data": {
            "text/plain": [
              "True"
            ]
          },
          "metadata": {
            "tags": []
          },
          "execution_count": 4
        }
      ]
    },
    {
      "cell_type": "code",
      "metadata": {
        "id": "RwdzCQrEOvUH",
        "colab_type": "code",
        "colab": {
          "base_uri": "https://localhost:8080/",
          "height": 34
        },
        "outputId": "576d6169-03af-462c-fb0a-4b9596ba1b17"
      },
      "source": [
        "str4 = \"HELLO WORLD!!\"\n",
        "str4.islower()"
      ],
      "execution_count": 5,
      "outputs": [
        {
          "output_type": "execute_result",
          "data": {
            "text/plain": [
              "False"
            ]
          },
          "metadata": {
            "tags": []
          },
          "execution_count": 5
        }
      ]
    },
    {
      "cell_type": "code",
      "metadata": {
        "id": "qQkQRUR2PYX5",
        "colab_type": "code",
        "colab": {
          "base_uri": "https://localhost:8080/",
          "height": 34
        },
        "outputId": "dc00cda1-5ba9-479e-ef24-85ca2dec9ffe"
      },
      "source": [
        "str5=\"#$%@%#$hvjjh\"\n",
        "str5.islower()"
      ],
      "execution_count": 6,
      "outputs": [
        {
          "output_type": "execute_result",
          "data": {
            "text/plain": [
              "True"
            ]
          },
          "metadata": {
            "tags": []
          },
          "execution_count": 6
        }
      ]
    },
    {
      "cell_type": "code",
      "metadata": {
        "id": "dod6hSdoOyKh",
        "colab_type": "code",
        "colab": {
          "base_uri": "https://localhost:8080/",
          "height": 34
        },
        "outputId": "48221b6e-d159-46f0-9847-4f04310da803"
      },
      "source": [
        "str6 = \"HELLO WORLD!!\"\n",
        "str6.isupper()"
      ],
      "execution_count": 7,
      "outputs": [
        {
          "output_type": "execute_result",
          "data": {
            "text/plain": [
              "True"
            ]
          },
          "metadata": {
            "tags": []
          },
          "execution_count": 7
        }
      ]
    },
    {
      "cell_type": "code",
      "metadata": {
        "id": "a7S3E3H0O2W_",
        "colab_type": "code",
        "colab": {
          "base_uri": "https://localhost:8080/",
          "height": 34
        },
        "outputId": "f81451f8-59c0-438f-d96e-91518cd36f6c"
      },
      "source": [
        "str7 = \"HELLO WORLd!!\"\n",
        "str7.isupper()"
      ],
      "execution_count": 8,
      "outputs": [
        {
          "output_type": "execute_result",
          "data": {
            "text/plain": [
              "False"
            ]
          },
          "metadata": {
            "tags": []
          },
          "execution_count": 8
        }
      ]
    },
    {
      "cell_type": "code",
      "metadata": {
        "id": "Y-6kxswcO6sW",
        "colab_type": "code",
        "colab": {
          "base_uri": "https://localhost:8080/",
          "height": 34
        },
        "outputId": "c6f29ca3-67eb-4c06-e52a-7f545757ec79"
      },
      "source": [
        "str8 = \"133\"\n",
        "str8.isupper()"
      ],
      "execution_count": 9,
      "outputs": [
        {
          "output_type": "execute_result",
          "data": {
            "text/plain": [
              "False"
            ]
          },
          "metadata": {
            "tags": []
          },
          "execution_count": 9
        }
      ]
    },
    {
      "cell_type": "code",
      "metadata": {
        "id": "-OIZAtI0O-VG",
        "colab_type": "code",
        "colab": {
          "base_uri": "https://localhost:8080/",
          "height": 34
        },
        "outputId": "7fae1754-e74a-4bc4-84ce-d640e4e5874e"
      },
      "source": [
        "str9 = \"##\"\n",
        "str9.isupper()"
      ],
      "execution_count": 10,
      "outputs": [
        {
          "output_type": "execute_result",
          "data": {
            "text/plain": [
              "False"
            ]
          },
          "metadata": {
            "tags": []
          },
          "execution_count": 10
        }
      ]
    },
    {
      "cell_type": "code",
      "metadata": {
        "id": "tSBWlqufPFbD",
        "colab_type": "code",
        "colab": {
          "base_uri": "https://localhost:8080/",
          "height": 34
        },
        "outputId": "e0aacd4b-e25d-4b03-fe08-4907574b877f"
      },
      "source": [
        "str10=\"abcdefgh*$$%%%\"\n",
        "str10.isupper()"
      ],
      "execution_count": 11,
      "outputs": [
        {
          "output_type": "execute_result",
          "data": {
            "text/plain": [
              "False"
            ]
          },
          "metadata": {
            "tags": []
          },
          "execution_count": 11
        }
      ]
    },
    {
      "cell_type": "code",
      "metadata": {
        "id": "givJlWMePLpK",
        "colab_type": "code",
        "colab": {
          "base_uri": "https://localhost:8080/",
          "height": 34
        },
        "outputId": "566bf1e4-5cc1-4c18-ec83-d9abf2ef34dd"
      },
      "source": [
        "str11=\"ADRGCHH\"\n",
        "str11.isupper()"
      ],
      "execution_count": 12,
      "outputs": [
        {
          "output_type": "execute_result",
          "data": {
            "text/plain": [
              "True"
            ]
          },
          "metadata": {
            "tags": []
          },
          "execution_count": 12
        }
      ]
    },
    {
      "cell_type": "code",
      "metadata": {
        "id": "EoeSyvIBPPCy",
        "colab_type": "code",
        "colab": {}
      },
      "source": [
        ""
      ],
      "execution_count": 12,
      "outputs": []
    }
  ]
}